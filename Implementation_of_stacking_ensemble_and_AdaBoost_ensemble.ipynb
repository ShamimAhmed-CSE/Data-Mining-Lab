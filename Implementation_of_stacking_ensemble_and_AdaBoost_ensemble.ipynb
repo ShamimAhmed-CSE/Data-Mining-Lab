{
  "nbformat": 4,
  "nbformat_minor": 0,
  "metadata": {
    "colab": {
      "provenance": []
    },
    "kernelspec": {
      "name": "python3",
      "display_name": "Python 3"
    },
    "language_info": {
      "name": "python"
    }
  },
  "cells": [
    {
      "cell_type": "code",
      "execution_count": null,
      "metadata": {
        "colab": {
          "base_uri": "https://localhost:8080/"
        },
        "id": "ZbITn_BgxA9m",
        "outputId": "e8200404-0088-492c-dfa5-3ff7286cf045"
      },
      "outputs": [
        {
          "output_type": "stream",
          "name": "stdout",
          "text": [
            "Pregnancies                   int64\n",
            "Glucose                       int64\n",
            "BloodPressure                 int64\n",
            "SkinThickness                 int64\n",
            "Insulin                       int64\n",
            "BMI                         float64\n",
            "DiabetesPedigreeFunction    float64\n",
            "Age                           int64\n",
            "Outcome                       int64\n",
            "dtype: object\n",
            "Stacking Ensemble Accuracy: 0.7338\n",
            "AdaBoost Ensemble Accuracy: 0.7143\n"
          ]
        },
        {
          "output_type": "stream",
          "name": "stderr",
          "text": [
            "/usr/local/lib/python3.10/dist-packages/sklearn/ensemble/_base.py:166: FutureWarning: `base_estimator` was renamed to `estimator` in version 1.2 and will be removed in 1.4.\n",
            "  warnings.warn(\n"
          ]
        }
      ],
      "source": [
        "# Import necessary libraries\n",
        "import pandas as pd\n",
        "from sklearn.model_selection import train_test_split\n",
        "from sklearn.ensemble import StackingClassifier, AdaBoostClassifier\n",
        "from sklearn.tree import DecisionTreeClassifier\n",
        "from sklearn.ensemble import RandomForestClassifier\n",
        "from sklearn.linear_model import LogisticRegression\n",
        "from sklearn.metrics import accuracy_score\n",
        "from sklearn.preprocessing import LabelEncoder\n",
        "\n",
        "# Load the diabetes dataset from a local file\n",
        "file_path = \"/content/diabetes.csv\"\n",
        "dataset = pd.read_csv(file_path)\n",
        "\n",
        "# Print data types of each column\n",
        "print(dataset.dtypes)\n",
        "\n",
        "# Handle non-numeric values by encoding categorical columns\n",
        "label_encoder = LabelEncoder()\n",
        "for column in dataset.columns:\n",
        "    if dataset[column].dtype == 'object':\n",
        "        dataset[column] = label_encoder.fit_transform(dataset[column])\n",
        "\n",
        "# Split the dataset into features (X) and target variable (y)\n",
        "X = dataset.iloc[:, :-1]\n",
        "y = dataset.iloc[:, -1]\n",
        "\n",
        "# Split the data into training and testing sets\n",
        "X_train, X_test, y_train, y_test = train_test_split(X, y, test_size=0.2, random_state=42)\n",
        "\n",
        "# Base models for stacking ensemble\n",
        "base_models = [\n",
        "    ('dt', DecisionTreeClassifier(random_state=42)),\n",
        "    ('rf', RandomForestClassifier(random_state=42))\n",
        "]\n",
        "\n",
        "# Stacking ensemble using Logistic Regression as meta-classifier\n",
        "stacking_model = StackingClassifier(estimators=base_models, final_estimator=LogisticRegression())\n",
        "\n",
        "# AdaBoost ensemble using Decision Tree as the base estimator\n",
        "adaboost_model = AdaBoostClassifier(base_estimator=DecisionTreeClassifier(random_state=42))\n",
        "\n",
        "# Train the models\n",
        "stacking_model.fit(X_train, y_train)\n",
        "adaboost_model.fit(X_train, y_train)\n",
        "\n",
        "# Make predictions\n",
        "stacking_predictions = stacking_model.predict(X_test)\n",
        "adaboost_predictions = adaboost_model.predict(X_test)\n",
        "\n",
        "# Evaluate accuracy\n",
        "stacking_accuracy = accuracy_score(y_test, stacking_predictions)\n",
        "adaboost_accuracy = accuracy_score(y_test, adaboost_predictions)\n",
        "\n",
        "print(f\"Stacking Ensemble Accuracy: {stacking_accuracy:.4f}\")\n",
        "print(f\"AdaBoost Ensemble Accuracy: {adaboost_accuracy:.4f}\")\n"
      ]
    }
  ]
}